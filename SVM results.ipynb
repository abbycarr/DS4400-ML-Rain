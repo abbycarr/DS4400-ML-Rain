{
 "cells": [
  {
   "cell_type": "code",
   "execution_count": 93,
   "id": "afdf7d24",
   "metadata": {},
   "outputs": [],
   "source": [
    "# importing numpy library\n",
    "import numpy as np\n",
    "import pandas as pd\n",
    "from sklearn.preprocessing import StandardScaler\n",
    "from sklearn.model_selection import train_test_split\n",
    "from sklearn.metrics import log_loss, accuracy_score, precision_score, recall_score, f1_score"
   ]
  },
  {
   "cell_type": "code",
   "execution_count": 28,
   "id": "8363eccf",
   "metadata": {},
   "outputs": [],
   "source": [
    "class SVM():\n",
    "\n",
    "    def __init__(self, lr, iterations, lambda_):\n",
    "\n",
    "        self.lr = lr\n",
    "        self.iters = iterations\n",
    "        self.lambda_ = lambda_\n",
    "\n",
    "    def fit(self, x, y):\n",
    "        \n",
    "        self.x = x\n",
    "        self.y = y\n",
    "        \n",
    "        self.m, self.n = x.shape\n",
    "        self.w = np.zeros(self.n)\n",
    "        \n",
    "        # bias\n",
    "        self.b = 1\n",
    "\n",
    "        # Update coeffs w/ Gradient Descent\n",
    "        for i in range(self.iters):\n",
    "            self.update_vals()\n",
    "\n",
    "    def update_vals(self):\n",
    "        \n",
    "        target = np.where(self.y <= 0, -1, 1)\n",
    "\n",
    "        for index, i in enumerate(self.x):\n",
    "\n",
    "            condition = target[index] * (np.dot(i, self.w) - self.b) >= 1\n",
    "\n",
    "            if (condition == True):\n",
    "\n",
    "                dw = 2 * self.lambda_ * self.w\n",
    "                db = 0\n",
    "            \n",
    "            else:\n",
    "\n",
    "                dw = 2 * self.lambda_ * self.w - np.dot(i, target[index])\n",
    "                db = target[index]\n",
    "\n",
    "            self.w = self.w - self.lr * dw\n",
    "            self.b = self.b - self.lr * db\n",
    "\n",
    "    def predict(self, x):\n",
    "\n",
    "        output = np.dot(x, self.w) - self.b\n",
    "        predicted = np.sign(output)\n",
    "        y_pred = np.where(predicted <= -1, 0, 1)\n",
    "\n",
    "        return y_pred"
   ]
  },
  {
   "cell_type": "code",
   "execution_count": 30,
   "id": "861d2a5b",
   "metadata": {},
   "outputs": [],
   "source": [
    "classifier = SVM(lr=0.001, iterations=1000, lambda_ = 0.01)"
   ]
  },
  {
   "cell_type": "code",
   "execution_count": 79,
   "id": "6ae8a156",
   "metadata": {},
   "outputs": [
    {
     "name": "stdout",
     "output_type": "stream",
     "text": [
      "0        0\n",
      "1        0\n",
      "2        0\n",
      "3        0\n",
      "4        0\n",
      "        ..\n",
      "51007    1\n",
      "51008    1\n",
      "51009    1\n",
      "51010    1\n",
      "51011    1\n",
      "Name: RainTomorrow, Length: 51012, dtype: int64\n"
     ]
    }
   ],
   "source": [
    "# loading the diabetes dataset to a pandas DataFrame\n",
    "features = pd.read_csv('cleaned_rain_x.csv')\n",
    "target = pd.read_csv('cleaned_rain_y.csv')\n",
    "target = target['RainTomorrow']\n",
    "print(target)"
   ]
  },
  {
   "cell_type": "code",
   "execution_count": 80,
   "id": "2a6a3448",
   "metadata": {},
   "outputs": [
    {
     "data": {
      "text/plain": [
       "array([0, 1], dtype=int64)"
      ]
     },
     "execution_count": 80,
     "metadata": {},
     "output_type": "execute_result"
    }
   ],
   "source": [
    "np.unique(target)"
   ]
  },
  {
   "cell_type": "code",
   "execution_count": 81,
   "id": "f73f5c40",
   "metadata": {},
   "outputs": [],
   "source": [
    "scaler = StandardScaler()"
   ]
  },
  {
   "cell_type": "code",
   "execution_count": 82,
   "id": "6adb3873",
   "metadata": {},
   "outputs": [
    {
     "data": {
      "text/plain": [
       "StandardScaler()"
      ]
     },
     "execution_count": 82,
     "metadata": {},
     "output_type": "execute_result"
    }
   ],
   "source": [
    "scaler.fit(features)"
   ]
  },
  {
   "cell_type": "code",
   "execution_count": 83,
   "id": "2e48e906",
   "metadata": {},
   "outputs": [],
   "source": [
    "standardized_data = scaler.transform(features)"
   ]
  },
  {
   "cell_type": "code",
   "execution_count": 84,
   "id": "8a4f0c20",
   "metadata": {},
   "outputs": [],
   "source": [
    "features = standardized_data"
   ]
  },
  {
   "cell_type": "code",
   "execution_count": 85,
   "id": "4fa9ef42",
   "metadata": {},
   "outputs": [],
   "source": [
    "X_train, X_test, Y_train, Y_test = train_test_split(features,target, test_size = 0.2, random_state=2)"
   ]
  },
  {
   "cell_type": "code",
   "execution_count": 86,
   "id": "8ee0fc92",
   "metadata": {},
   "outputs": [
    {
     "name": "stdout",
     "output_type": "stream",
     "text": [
      "(51012, 25) (40809, 25) (10203, 25)\n"
     ]
    }
   ],
   "source": [
    "print(features.shape, X_train.shape, X_test.shape)"
   ]
  },
  {
   "cell_type": "code",
   "execution_count": 87,
   "id": "3649a404",
   "metadata": {},
   "outputs": [],
   "source": [
    "classifier = SVM(lr=0.001, iterations=1000, lambda_ = 0.01)"
   ]
  },
  {
   "cell_type": "code",
   "execution_count": 88,
   "id": "dfe07d3d",
   "metadata": {},
   "outputs": [],
   "source": [
    "#training the support vector Machine Classifier\n",
    "classifier.fit(X_train, Y_train)"
   ]
  },
  {
   "cell_type": "code",
   "execution_count": 94,
   "id": "cc6ec725",
   "metadata": {},
   "outputs": [],
   "source": [
    "# accuracy score on the training data\n",
    "X_train_prediction = classifier.predict(X_train)\n",
    "train_accuracy = accuracy_score( Y_train, X_train_prediction)\n",
    "train_precision = precision_score( Y_train, X_train_prediction)\n",
    "train_recall = recall_score( Y_train, X_train_prediction)\n",
    "train_f1 = f1_score( Y_train, X_train_prediction)"
   ]
  },
  {
   "cell_type": "code",
   "execution_count": 95,
   "id": "db5158d8",
   "metadata": {},
   "outputs": [
    {
     "name": "stdout",
     "output_type": "stream",
     "text": [
      "Training Data \n",
      "\n",
      "Accuracy:  0.9823813374500723\n",
      "Precision:  0.9843550132834793\n",
      "Recall:  0.9803518055759713\n",
      "F1: 0.9823493310421014\n"
     ]
    }
   ],
   "source": [
    "print('Training Data','\\n')\n",
    "print('Accuracy: ', train_accuracy)\n",
    "print('Precision: ', train_precision)\n",
    "print('Recall: ', train_recall)\n",
    "print('F1:', train_f1)"
   ]
  },
  {
   "cell_type": "code",
   "execution_count": 98,
   "id": "75e08346",
   "metadata": {},
   "outputs": [],
   "source": [
    "# accuracy score on the test data\n",
    "X_test_prediction = classifier.predict(X_test)\n",
    "test_accuracy = accuracy_score( Y_test, X_test_prediction)\n",
    "test_precision = precision_score( Y_test, X_test_prediction)\n",
    "test_recall = recall_score( Y_test, X_test_prediction)\n",
    "test_f1 = f1_score( Y_test, X_test_prediction)"
   ]
  },
  {
   "cell_type": "code",
   "execution_count": 99,
   "id": "6d47a143",
   "metadata": {},
   "outputs": [
    {
     "name": "stdout",
     "output_type": "stream",
     "text": [
      "Testing Data \n",
      "\n",
      "Accuracy:  0.9829461922963835\n",
      "Precision:  0.985598737423555\n",
      "Recall:  0.9801844222091426\n",
      "F1: 0.9828841235490852\n"
     ]
    }
   ],
   "source": [
    "print('Testing Data','\\n')\n",
    "print('Accuracy: ', test_accuracy)\n",
    "print('Precision: ', test_precision)\n",
    "print('Recall: ', test_recall)\n",
    "print('F1:', test_f1)"
   ]
  }
 ],
 "metadata": {
  "kernelspec": {
   "display_name": "Python 3 (ipykernel)",
   "language": "python",
   "name": "python3"
  },
  "language_info": {
   "codemirror_mode": {
    "name": "ipython",
    "version": 3
   },
   "file_extension": ".py",
   "mimetype": "text/x-python",
   "name": "python",
   "nbconvert_exporter": "python",
   "pygments_lexer": "ipython3",
   "version": "3.9.7"
  }
 },
 "nbformat": 4,
 "nbformat_minor": 5
}
