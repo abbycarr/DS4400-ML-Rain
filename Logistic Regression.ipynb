{
 "cells": [
  {
   "cell_type": "markdown",
   "metadata": {},
   "source": [
    "### Imports"
   ]
  },
  {
   "cell_type": "code",
   "execution_count": 22,
   "metadata": {},
   "outputs": [],
   "source": [
    "import pandas as pd\n",
    "import numpy as np\n",
    "from sklearn.model_selection import train_test_split\n",
    "import math\n",
    "from math import log"
   ]
  },
  {
   "cell_type": "markdown",
   "metadata": {},
   "source": [
    "---\n",
    "### Upload Dataset"
   ]
  },
  {
   "cell_type": "code",
   "execution_count": 23,
   "metadata": {},
   "outputs": [],
   "source": [
    "X_und = pd.read_csv(\"cleaned_rain_x.csv\")\n",
    "y_und = pd.read_csv(\"cleaned_rain_y.csv\")"
   ]
  },
  {
   "cell_type": "markdown",
   "metadata": {},
   "source": [
    "---\n",
    "### Split into testing and training data"
   ]
  },
  {
   "cell_type": "code",
   "execution_count": 24,
   "metadata": {},
   "outputs": [],
   "source": [
    "x_train, x_test, y_train, y_test = train_test_split(X_und, y_und, test_size=0.25, random_state=42)"
   ]
  },
  {
   "cell_type": "markdown",
   "metadata": {},
   "source": [
    "---\n",
    "### Create 'Total' Train DataFrame"
   ]
  },
  {
   "cell_type": "code",
   "execution_count": 25,
   "metadata": {},
   "outputs": [
    {
     "data": {
      "text/html": [
       "<div>\n",
       "<style scoped>\n",
       "    .dataframe tbody tr th:only-of-type {\n",
       "        vertical-align: middle;\n",
       "    }\n",
       "\n",
       "    .dataframe tbody tr th {\n",
       "        vertical-align: top;\n",
       "    }\n",
       "\n",
       "    .dataframe thead th {\n",
       "        text-align: right;\n",
       "    }\n",
       "</style>\n",
       "<table border=\"1\" class=\"dataframe\">\n",
       "  <thead>\n",
       "    <tr style=\"text-align: right;\">\n",
       "      <th></th>\n",
       "      <th>MinTemp</th>\n",
       "      <th>MaxTemp</th>\n",
       "      <th>WindGustSpeed</th>\n",
       "      <th>WindSpeed9am</th>\n",
       "      <th>WindSpeed3pm</th>\n",
       "      <th>Humidity9am</th>\n",
       "      <th>Humidity3pm</th>\n",
       "      <th>Pressure9am</th>\n",
       "      <th>RainToday</th>\n",
       "      <th>year</th>\n",
       "      <th>...</th>\n",
       "      <th>WindGustDirW</th>\n",
       "      <th>WindDir9amN</th>\n",
       "      <th>WindDir9amE</th>\n",
       "      <th>WindDir9amS</th>\n",
       "      <th>WindDir9amW</th>\n",
       "      <th>WindDir3pmN</th>\n",
       "      <th>WindDir3pmE</th>\n",
       "      <th>WindDir3pmS</th>\n",
       "      <th>WindDir3pmW</th>\n",
       "      <th>RainTomorrow</th>\n",
       "    </tr>\n",
       "  </thead>\n",
       "  <tbody>\n",
       "    <tr>\n",
       "      <th>22845</th>\n",
       "      <td>7.2</td>\n",
       "      <td>13.5</td>\n",
       "      <td>46.0</td>\n",
       "      <td>17.0</td>\n",
       "      <td>31.0</td>\n",
       "      <td>76.0</td>\n",
       "      <td>61.0</td>\n",
       "      <td>1021.8</td>\n",
       "      <td>1</td>\n",
       "      <td>2015</td>\n",
       "      <td>...</td>\n",
       "      <td>1</td>\n",
       "      <td>0</td>\n",
       "      <td>0</td>\n",
       "      <td>0</td>\n",
       "      <td>1</td>\n",
       "      <td>0</td>\n",
       "      <td>0</td>\n",
       "      <td>1</td>\n",
       "      <td>1</td>\n",
       "      <td>0</td>\n",
       "    </tr>\n",
       "    <tr>\n",
       "      <th>42446</th>\n",
       "      <td>21.2</td>\n",
       "      <td>28.8</td>\n",
       "      <td>48.0</td>\n",
       "      <td>19.0</td>\n",
       "      <td>24.0</td>\n",
       "      <td>78.0</td>\n",
       "      <td>97.0</td>\n",
       "      <td>1009.6</td>\n",
       "      <td>0</td>\n",
       "      <td>2014</td>\n",
       "      <td>...</td>\n",
       "      <td>1</td>\n",
       "      <td>1</td>\n",
       "      <td>1</td>\n",
       "      <td>0</td>\n",
       "      <td>0</td>\n",
       "      <td>0</td>\n",
       "      <td>0</td>\n",
       "      <td>0</td>\n",
       "      <td>1</td>\n",
       "      <td>1</td>\n",
       "    </tr>\n",
       "    <tr>\n",
       "      <th>5989</th>\n",
       "      <td>16.8</td>\n",
       "      <td>28.0</td>\n",
       "      <td>39.0</td>\n",
       "      <td>19.0</td>\n",
       "      <td>22.0</td>\n",
       "      <td>74.0</td>\n",
       "      <td>60.0</td>\n",
       "      <td>1012.4</td>\n",
       "      <td>0</td>\n",
       "      <td>2015</td>\n",
       "      <td>...</td>\n",
       "      <td>0</td>\n",
       "      <td>0</td>\n",
       "      <td>0</td>\n",
       "      <td>1</td>\n",
       "      <td>1</td>\n",
       "      <td>0</td>\n",
       "      <td>1</td>\n",
       "      <td>1</td>\n",
       "      <td>0</td>\n",
       "      <td>0</td>\n",
       "    </tr>\n",
       "    <tr>\n",
       "      <th>39347</th>\n",
       "      <td>12.5</td>\n",
       "      <td>24.4</td>\n",
       "      <td>50.0</td>\n",
       "      <td>6.0</td>\n",
       "      <td>7.0</td>\n",
       "      <td>78.0</td>\n",
       "      <td>43.0</td>\n",
       "      <td>1014.6</td>\n",
       "      <td>0</td>\n",
       "      <td>2014</td>\n",
       "      <td>...</td>\n",
       "      <td>0</td>\n",
       "      <td>0</td>\n",
       "      <td>0</td>\n",
       "      <td>1</td>\n",
       "      <td>1</td>\n",
       "      <td>0</td>\n",
       "      <td>1</td>\n",
       "      <td>1</td>\n",
       "      <td>0</td>\n",
       "      <td>1</td>\n",
       "    </tr>\n",
       "    <tr>\n",
       "      <th>31998</th>\n",
       "      <td>6.0</td>\n",
       "      <td>17.2</td>\n",
       "      <td>33.0</td>\n",
       "      <td>9.0</td>\n",
       "      <td>22.0</td>\n",
       "      <td>95.0</td>\n",
       "      <td>55.0</td>\n",
       "      <td>1029.4</td>\n",
       "      <td>1</td>\n",
       "      <td>2009</td>\n",
       "      <td>...</td>\n",
       "      <td>0</td>\n",
       "      <td>1</td>\n",
       "      <td>0</td>\n",
       "      <td>0</td>\n",
       "      <td>1</td>\n",
       "      <td>0</td>\n",
       "      <td>1</td>\n",
       "      <td>1</td>\n",
       "      <td>0</td>\n",
       "      <td>1</td>\n",
       "    </tr>\n",
       "  </tbody>\n",
       "</table>\n",
       "<p>5 rows × 25 columns</p>\n",
       "</div>"
      ],
      "text/plain": [
       "       MinTemp  MaxTemp  WindGustSpeed  WindSpeed9am  WindSpeed3pm  \\\n",
       "22845      7.2     13.5           46.0          17.0          31.0   \n",
       "42446     21.2     28.8           48.0          19.0          24.0   \n",
       "5989      16.8     28.0           39.0          19.0          22.0   \n",
       "39347     12.5     24.4           50.0           6.0           7.0   \n",
       "31998      6.0     17.2           33.0           9.0          22.0   \n",
       "\n",
       "       Humidity9am  Humidity3pm  Pressure9am  RainToday  year  ...  \\\n",
       "22845         76.0         61.0       1021.8          1  2015  ...   \n",
       "42446         78.0         97.0       1009.6          0  2014  ...   \n",
       "5989          74.0         60.0       1012.4          0  2015  ...   \n",
       "39347         78.0         43.0       1014.6          0  2014  ...   \n",
       "31998         95.0         55.0       1029.4          1  2009  ...   \n",
       "\n",
       "       WindGustDirW  WindDir9amN  WindDir9amE  WindDir9amS  WindDir9amW  \\\n",
       "22845             1            0            0            0            1   \n",
       "42446             1            1            1            0            0   \n",
       "5989              0            0            0            1            1   \n",
       "39347             0            0            0            1            1   \n",
       "31998             0            1            0            0            1   \n",
       "\n",
       "       WindDir3pmN  WindDir3pmE  WindDir3pmS  WindDir3pmW  RainTomorrow  \n",
       "22845            0            0            1            1             0  \n",
       "42446            0            0            0            1             1  \n",
       "5989             0            1            1            0             0  \n",
       "39347            0            1            1            0             1  \n",
       "31998            0            1            1            0             1  \n",
       "\n",
       "[5 rows x 25 columns]"
      ]
     },
     "execution_count": 25,
     "metadata": {},
     "output_type": "execute_result"
    }
   ],
   "source": [
    "x_train_total = pd.concat([x_train, y_train], axis=1)\n",
    "x_train_total.drop(columns=['Unnamed: 0'], axis=1, inplace=True)\n",
    "x_train_total.head()"
   ]
  },
  {
   "cell_type": "markdown",
   "metadata": {},
   "source": [
    "---\n",
    "# Evaluators\n",
    "---"
   ]
  },
  {
   "cell_type": "code",
   "execution_count": 40,
   "metadata": {},
   "outputs": [],
   "source": [
    "def TF(y_actu, y_pred):\n",
    "    TP = np.sum(np.logical_and(y_pred == 1, y_actu == 1))\n",
    "    TN = np.sum(np.logical_and(y_pred == 0, y_actu == 0))\n",
    "    FP = np.sum(np.logical_and(y_pred == 1, y_actu == 0))\n",
    "    FN = np.sum(np.logical_and(y_pred == 0, y_actu == 1))\n",
    "    return TP, FP, TN, FN"
   ]
  },
  {
   "cell_type": "code",
   "execution_count": 41,
   "metadata": {},
   "outputs": [],
   "source": [
    "def eval(models, test_x, test_y):\n",
    "    for m in models:\n",
    "        model = m[0]\n",
    "        TP, FP, TN, FN = TF(test_y, np.array(model.predict(test_x)))\n",
    "        acc = (TP + TN) / (TP + TN + FP + FN)\n",
    "        pre = TP / (TP + FP)\n",
    "        re = TP / (FN + TP)\n",
    "        f1 = (2 * (pre * re)) / (pre + re)\n",
    "        scoring = {m[1]:{\"Accuracy\":acc, \"Precision\":pre,\"Recall\":re,\"F1\":f1}}\n",
    "    return pd.DataFrame(scoring)"
   ]
  },
  {
   "cell_type": "markdown",
   "metadata": {},
   "source": [
    "---\n",
    "# Gradient Descent Logistic Regression Implementation\n",
    "---"
   ]
  },
  {
   "cell_type": "code",
   "execution_count": 44,
   "metadata": {},
   "outputs": [],
   "source": [
    "class GDLogReg:\n",
    "\n",
    "      #### Helper Functions ##########\n",
    "\n",
    "    def add_const(self, dataframe):\n",
    "        n, k = dataframe.shape\n",
    "        ones = np.ones((n, 1))\n",
    "        return np.concatenate([ones, dataframe], axis = 1)\n",
    "\n",
    "    def sigmoid(self, t):\n",
    "        return 1/(1 + np.exp(-t))\n",
    "\n",
    "    def ce(self, pred, y):\n",
    "        y = y.to_numpy()\n",
    "        total = 0\n",
    "        for i in range(len(pred)):\n",
    "            if pred[i] == 0:\n",
    "                x = 0.0000001\n",
    "            else:\n",
    "                x = pred[i]\n",
    "            total += y[i] * log(x)\n",
    "        return -total\n",
    "\n",
    "      ################################\n",
    "\n",
    "    def __init__(self):\n",
    "        self.theta = None\n",
    "        self.fit()\n",
    "\n",
    "    def fit(self, X=x_train, y=y_train[\"RainTomorrow\"], l_rate=.01, epochs=101):\n",
    "        X = self.add_const(X)\n",
    "\n",
    "        n, d = X.shape\n",
    "\n",
    "        # 1. initialize theta at random\n",
    "        self.theta = np.zeros((d, ))\n",
    "\n",
    "        # 2. repeat until stopping conditions\n",
    "        for epoch in range(epochs):\n",
    "          \n",
    "            theta_old = self.theta\n",
    "          \n",
    "            prediction = self.sigmoid(X @ theta_old)\n",
    "          \n",
    "            gradient = np.matmul(X.T, (prediction-y)) / n\n",
    "          \n",
    "            # 3. update theta\n",
    "            self.theta -= l_rate * gradient\n",
    "\n",
    "            cross_entropy = self.ce(prediction, y)\n",
    "        return self\n",
    "\n",
    "    def predict(self, X=x_test):\n",
    "        if self.theta is None:\n",
    "            raise RuntimeError('Model has not been fit yet')\n",
    "        X = self.add_const(X)\n",
    "        return np.rint(self.sigmoid(X @ self.theta)).astype(int)"
   ]
  },
  {
   "cell_type": "markdown",
   "metadata": {},
   "source": [
    "---\n",
    "# RESULTS\n",
    "---"
   ]
  },
  {
   "cell_type": "code",
   "execution_count": 45,
   "metadata": {
    "scrolled": false
   },
   "outputs": [
    {
     "name": "stderr",
     "output_type": "stream",
     "text": [
      "<ipython-input-44-85b5b8bb8adf>:11: RuntimeWarning: overflow encountered in exp\n",
      "  return 1/(1 + np.exp(-t))\n"
     ]
    },
    {
     "name": "stdout",
     "output_type": "stream",
     "text": [
      "5403 0 6326 1024\n"
     ]
    },
    {
     "data": {
      "text/html": [
       "<div>\n",
       "<style scoped>\n",
       "    .dataframe tbody tr th:only-of-type {\n",
       "        vertical-align: middle;\n",
       "    }\n",
       "\n",
       "    .dataframe tbody tr th {\n",
       "        vertical-align: top;\n",
       "    }\n",
       "\n",
       "    .dataframe thead th {\n",
       "        text-align: right;\n",
       "    }\n",
       "</style>\n",
       "<table border=\"1\" class=\"dataframe\">\n",
       "  <thead>\n",
       "    <tr style=\"text-align: right;\">\n",
       "      <th></th>\n",
       "      <th>Logistic Regression</th>\n",
       "    </tr>\n",
       "  </thead>\n",
       "  <tbody>\n",
       "    <tr>\n",
       "      <th>Accuracy</th>\n",
       "      <td>0.919705</td>\n",
       "    </tr>\n",
       "    <tr>\n",
       "      <th>F1</th>\n",
       "      <td>0.913440</td>\n",
       "    </tr>\n",
       "    <tr>\n",
       "      <th>Precision</th>\n",
       "      <td>1.000000</td>\n",
       "    </tr>\n",
       "    <tr>\n",
       "      <th>Recall</th>\n",
       "      <td>0.840672</td>\n",
       "    </tr>\n",
       "  </tbody>\n",
       "</table>\n",
       "</div>"
      ],
      "text/plain": [
       "           Logistic Regression\n",
       "Accuracy              0.919705\n",
       "F1                    0.913440\n",
       "Precision             1.000000\n",
       "Recall                0.840672"
      ]
     },
     "execution_count": 45,
     "metadata": {},
     "output_type": "execute_result"
    }
   ],
   "source": [
    "LR = GDLogReg()\n",
    "eval([[LR, \"Logistic Regression\"]], x_test, y_test['RainTomorrow'])"
   ]
  }
 ],
 "metadata": {
  "kernelspec": {
   "display_name": "Python 3",
   "language": "python",
   "name": "python3"
  },
  "language_info": {
   "codemirror_mode": {
    "name": "ipython",
    "version": 3
   },
   "file_extension": ".py",
   "mimetype": "text/x-python",
   "name": "python",
   "nbconvert_exporter": "python",
   "pygments_lexer": "ipython3",
   "version": "3.8.3"
  }
 },
 "nbformat": 4,
 "nbformat_minor": 4
}
