{
 "cells": [
  {
   "cell_type": "markdown",
   "metadata": {},
   "source": [
    "### Imports"
   ]
  },
  {
   "cell_type": "code",
   "execution_count": 1,
   "metadata": {},
   "outputs": [],
   "source": [
    "import pandas as pd\n",
    "import numpy as np\n",
    "from sklearn.model_selection import train_test_split\n",
    "import seaborn as sns"
   ]
  },
  {
   "cell_type": "markdown",
   "metadata": {},
   "source": [
    "---\n",
    "### Upload Dataset"
   ]
  },
  {
   "cell_type": "code",
   "execution_count": 2,
   "metadata": {},
   "outputs": [],
   "source": [
    "X_und = pd.read_csv(\"cleaned_rain_x.csv\")\n",
    "y_und = pd.read_csv(\"cleaned_rain_y.csv\")"
   ]
  },
  {
   "cell_type": "markdown",
   "metadata": {},
   "source": [
    "---\n",
    "### Split into testing and training data"
   ]
  },
  {
   "cell_type": "code",
   "execution_count": 3,
   "metadata": {},
   "outputs": [],
   "source": [
    "x_train, x_test, y_train, y_test = train_test_split(X_und, y_und, test_size=0.25, random_state=42)"
   ]
  },
  {
   "cell_type": "code",
   "execution_count": 4,
   "metadata": {
    "scrolled": false
   },
   "outputs": [
    {
     "name": "stderr",
     "output_type": "stream",
     "text": [
      "/Users/abbycarr/opt/anaconda3/lib/python3.8/site-packages/pandas/core/frame.py:3990: SettingWithCopyWarning: \n",
      "A value is trying to be set on a copy of a slice from a DataFrame\n",
      "\n",
      "See the caveats in the documentation: https://pandas.pydata.org/pandas-docs/stable/user_guide/indexing.html#returning-a-view-versus-a-copy\n",
      "  return super().drop(\n"
     ]
    }
   ],
   "source": [
    "x_train.drop(columns=['Unnamed: 0'], axis=1, inplace=True)\n",
    "x_test.drop(columns=['Unnamed: 0'], axis=1, inplace=True)"
   ]
  },
  {
   "cell_type": "code",
   "execution_count": 5,
   "metadata": {
    "scrolled": true
   },
   "outputs": [
    {
     "data": {
      "text/html": [
       "<div>\n",
       "<style scoped>\n",
       "    .dataframe tbody tr th:only-of-type {\n",
       "        vertical-align: middle;\n",
       "    }\n",
       "\n",
       "    .dataframe tbody tr th {\n",
       "        vertical-align: top;\n",
       "    }\n",
       "\n",
       "    .dataframe thead th {\n",
       "        text-align: right;\n",
       "    }\n",
       "</style>\n",
       "<table border=\"1\" class=\"dataframe\">\n",
       "  <thead>\n",
       "    <tr style=\"text-align: right;\">\n",
       "      <th></th>\n",
       "      <th>0</th>\n",
       "      <th>1</th>\n",
       "      <th>2</th>\n",
       "      <th>3</th>\n",
       "      <th>4</th>\n",
       "      <th>5</th>\n",
       "      <th>6</th>\n",
       "      <th>7</th>\n",
       "      <th>8</th>\n",
       "      <th>9</th>\n",
       "      <th>...</th>\n",
       "      <th>14</th>\n",
       "      <th>15</th>\n",
       "      <th>16</th>\n",
       "      <th>17</th>\n",
       "      <th>18</th>\n",
       "      <th>19</th>\n",
       "      <th>20</th>\n",
       "      <th>21</th>\n",
       "      <th>22</th>\n",
       "      <th>23</th>\n",
       "    </tr>\n",
       "  </thead>\n",
       "  <tbody>\n",
       "    <tr>\n",
       "      <th>22845</th>\n",
       "      <td>-0.925855</td>\n",
       "      <td>-1.343428</td>\n",
       "      <td>0.213256</td>\n",
       "      <td>0.145445</td>\n",
       "      <td>1.220578</td>\n",
       "      <td>0.274457</td>\n",
       "      <td>0.183993</td>\n",
       "      <td>0.755625</td>\n",
       "      <td>1.500069</td>\n",
       "      <td>0.894962</td>\n",
       "      <td>...</td>\n",
       "      <td>1.101758</td>\n",
       "      <td>1.088941</td>\n",
       "      <td>-0.929551</td>\n",
       "      <td>-0.843587</td>\n",
       "      <td>-0.839679</td>\n",
       "      <td>1.169532</td>\n",
       "      <td>-0.846416</td>\n",
       "      <td>-0.822150</td>\n",
       "      <td>1.097495</td>\n",
       "      <td>1.094764</td>\n",
       "    </tr>\n",
       "    <tr>\n",
       "      <th>42446</th>\n",
       "      <td>1.314874</td>\n",
       "      <td>0.856220</td>\n",
       "      <td>0.352357</td>\n",
       "      <td>0.376646</td>\n",
       "      <td>0.437868</td>\n",
       "      <td>0.382385</td>\n",
       "      <td>1.842494</td>\n",
       "      <td>-0.917119</td>\n",
       "      <td>-0.666636</td>\n",
       "      <td>0.499156</td>\n",
       "      <td>...</td>\n",
       "      <td>-0.907640</td>\n",
       "      <td>1.088941</td>\n",
       "      <td>1.075788</td>\n",
       "      <td>1.185414</td>\n",
       "      <td>-0.839679</td>\n",
       "      <td>-0.855043</td>\n",
       "      <td>-0.846416</td>\n",
       "      <td>-0.822150</td>\n",
       "      <td>-0.911166</td>\n",
       "      <td>1.094764</td>\n",
       "    </tr>\n",
       "    <tr>\n",
       "      <th>5989</th>\n",
       "      <td>0.610645</td>\n",
       "      <td>0.741206</td>\n",
       "      <td>-0.273598</td>\n",
       "      <td>0.376646</td>\n",
       "      <td>0.214237</td>\n",
       "      <td>0.166529</td>\n",
       "      <td>0.137924</td>\n",
       "      <td>-0.533211</td>\n",
       "      <td>-0.666636</td>\n",
       "      <td>0.894962</td>\n",
       "      <td>...</td>\n",
       "      <td>-0.907640</td>\n",
       "      <td>-0.918324</td>\n",
       "      <td>-0.929551</td>\n",
       "      <td>-0.843587</td>\n",
       "      <td>1.190932</td>\n",
       "      <td>1.169532</td>\n",
       "      <td>-0.846416</td>\n",
       "      <td>1.216322</td>\n",
       "      <td>1.097495</td>\n",
       "      <td>-0.913439</td>\n",
       "    </tr>\n",
       "    <tr>\n",
       "      <th>39347</th>\n",
       "      <td>-0.077579</td>\n",
       "      <td>0.223641</td>\n",
       "      <td>0.491458</td>\n",
       "      <td>-1.126157</td>\n",
       "      <td>-1.462998</td>\n",
       "      <td>0.382385</td>\n",
       "      <td>-0.645257</td>\n",
       "      <td>-0.231568</td>\n",
       "      <td>-0.666636</td>\n",
       "      <td>0.499156</td>\n",
       "      <td>...</td>\n",
       "      <td>-0.907640</td>\n",
       "      <td>-0.918324</td>\n",
       "      <td>-0.929551</td>\n",
       "      <td>-0.843587</td>\n",
       "      <td>1.190932</td>\n",
       "      <td>1.169532</td>\n",
       "      <td>-0.846416</td>\n",
       "      <td>1.216322</td>\n",
       "      <td>1.097495</td>\n",
       "      <td>-0.913439</td>\n",
       "    </tr>\n",
       "    <tr>\n",
       "      <th>31998</th>\n",
       "      <td>-1.117918</td>\n",
       "      <td>-0.811487</td>\n",
       "      <td>-0.690902</td>\n",
       "      <td>-0.779357</td>\n",
       "      <td>0.214237</td>\n",
       "      <td>1.299772</td>\n",
       "      <td>-0.092423</td>\n",
       "      <td>1.797663</td>\n",
       "      <td>1.500069</td>\n",
       "      <td>-1.479872</td>\n",
       "      <td>...</td>\n",
       "      <td>-0.907640</td>\n",
       "      <td>-0.918324</td>\n",
       "      <td>1.075788</td>\n",
       "      <td>-0.843587</td>\n",
       "      <td>-0.839679</td>\n",
       "      <td>1.169532</td>\n",
       "      <td>-0.846416</td>\n",
       "      <td>1.216322</td>\n",
       "      <td>1.097495</td>\n",
       "      <td>-0.913439</td>\n",
       "    </tr>\n",
       "  </tbody>\n",
       "</table>\n",
       "<p>5 rows × 24 columns</p>\n",
       "</div>"
      ],
      "text/plain": [
       "              0         1         2         3         4         5         6  \\\n",
       "22845 -0.925855 -1.343428  0.213256  0.145445  1.220578  0.274457  0.183993   \n",
       "42446  1.314874  0.856220  0.352357  0.376646  0.437868  0.382385  1.842494   \n",
       "5989   0.610645  0.741206 -0.273598  0.376646  0.214237  0.166529  0.137924   \n",
       "39347 -0.077579  0.223641  0.491458 -1.126157 -1.462998  0.382385 -0.645257   \n",
       "31998 -1.117918 -0.811487 -0.690902 -0.779357  0.214237  1.299772 -0.092423   \n",
       "\n",
       "              7         8         9  ...        14        15        16  \\\n",
       "22845  0.755625  1.500069  0.894962  ...  1.101758  1.088941 -0.929551   \n",
       "42446 -0.917119 -0.666636  0.499156  ... -0.907640  1.088941  1.075788   \n",
       "5989  -0.533211 -0.666636  0.894962  ... -0.907640 -0.918324 -0.929551   \n",
       "39347 -0.231568 -0.666636  0.499156  ... -0.907640 -0.918324 -0.929551   \n",
       "31998  1.797663  1.500069 -1.479872  ... -0.907640 -0.918324  1.075788   \n",
       "\n",
       "             17        18        19        20        21        22        23  \n",
       "22845 -0.843587 -0.839679  1.169532 -0.846416 -0.822150  1.097495  1.094764  \n",
       "42446  1.185414 -0.839679 -0.855043 -0.846416 -0.822150 -0.911166  1.094764  \n",
       "5989  -0.843587  1.190932  1.169532 -0.846416  1.216322  1.097495 -0.913439  \n",
       "39347 -0.843587  1.190932  1.169532 -0.846416  1.216322  1.097495 -0.913439  \n",
       "31998 -0.843587 -0.839679  1.169532 -0.846416  1.216322  1.097495 -0.913439  \n",
       "\n",
       "[5 rows x 24 columns]"
      ]
     },
     "execution_count": 5,
     "metadata": {},
     "output_type": "execute_result"
    }
   ],
   "source": [
    "x_train.head()"
   ]
  },
  {
   "cell_type": "markdown",
   "metadata": {},
   "source": [
    "---\n",
    "# Evaluators\n",
    "---"
   ]
  },
  {
   "cell_type": "code",
   "execution_count": 6,
   "metadata": {},
   "outputs": [],
   "source": [
    "def conf(TP, FP, TN, FN):\n",
    "    cf = np.array([[TN, FP], [FN, TP]])\n",
    "    group_names = ['True Neg','False Pos','False Neg','True Pos']\n",
    "    group_counts = [\"{0:0.0f}\".format(value) for value in\n",
    "                    cf.flatten()]\n",
    "    group_percentages = [\"{0:.2%}\".format(value) for value in\n",
    "                         cf.flatten()/np.sum(cf)]\n",
    "    labels = [f\"{v1}\\n{v2}\\n{v3}\" for v1, v2, v3 in\n",
    "              zip(group_names,group_counts,group_percentages)]\n",
    "    labels = np.asarray(labels).reshape(2,2)\n",
    "    sns.heatmap(cf, annot=labels, fmt='', \n",
    "                cmap=sns.diverging_palette(230, 20, center='light'))"
   ]
  },
  {
   "cell_type": "code",
   "execution_count": 7,
   "metadata": {},
   "outputs": [],
   "source": [
    "def TF(y_actu, y_pred):\n",
    "    TP = np.sum(np.logical_and(y_pred == 1, y_actu == 1))\n",
    "    TN = np.sum(np.logical_and(y_pred == 0, y_actu == 0))\n",
    "    FP = np.sum(np.logical_and(y_pred == 1, y_actu == 0))\n",
    "    FN = np.sum(np.logical_and(y_pred == 0, y_actu == 1))\n",
    "    conf(TP, FP, TN, FN)\n",
    "    return TP, FP, TN, FN"
   ]
  },
  {
   "cell_type": "code",
   "execution_count": 8,
   "metadata": {},
   "outputs": [],
   "source": [
    "def eval(models, test_x, test_y):\n",
    "    for m in models:\n",
    "        model = m[0]\n",
    "        TP, FP, TN, FN = TF(test_y, np.array(model.predict(test_x)))\n",
    "        acc = (TP + TN) / (TP + TN + FP + FN)\n",
    "        pre = TP / (TP + FP)\n",
    "        re = TP / (FN + TP)\n",
    "        f1 = (2 * (pre * re)) / (pre + re)\n",
    "        scoring = {m[1]:{\"Accuracy\":acc, \"Precision\":pre,\"Recall\":re,\"F1\":f1}}\n",
    "    return pd.DataFrame(scoring)"
   ]
  },
  {
   "cell_type": "markdown",
   "metadata": {},
   "source": [
    "---\n",
    "# SVM Implementation\n",
    "---"
   ]
  },
  {
   "cell_type": "code",
   "execution_count": 9,
   "metadata": {},
   "outputs": [],
   "source": [
    "class SVM():\n",
    "\n",
    "    def __init__(self, lr=0.001, iterations=1000, lambda_ = 0.01):\n",
    "\n",
    "        self.lr = lr\n",
    "        self.iters = iterations\n",
    "        self.lambda_ = lambda_\n",
    "        self.fit()\n",
    "\n",
    "    def fit(self, x=x_train, y=y_train[\"RainTomorrow\"]):\n",
    "        \n",
    "        self.x = np.array(x)\n",
    "        self.y = y\n",
    "        \n",
    "        self.m, self.n = x.shape\n",
    "        self.w = np.zeros(self.n)\n",
    "        \n",
    "        # bias\n",
    "        self.b = 1\n",
    "\n",
    "        # Update coeffs w/ Gradient Descent\n",
    "        for i in range(self.iters):\n",
    "            self.update_vals()\n",
    "\n",
    "    def update_vals(self):\n",
    "        \n",
    "        target = np.where(self.y <= 0, -1, 1)\n",
    "\n",
    "        for index, i in enumerate(self.x):\n",
    "\n",
    "            condition = target[index] * (np.dot(i, self.w) - self.b) >= 1\n",
    "\n",
    "            if (condition == True):\n",
    "\n",
    "                dw = 2 * self.lambda_ * self.w\n",
    "                db = 0\n",
    "            \n",
    "            else:\n",
    "\n",
    "                g = np.dot(i, target[index])\n",
    "                dw = 2 * self.lambda_ * self.w - g\n",
    "                db = target[index]\n",
    "\n",
    "            self.w = self.w - self.lr * dw\n",
    "            self.b = self.b - self.lr * db\n",
    "\n",
    "    def predict(self, x_test):\n",
    "\n",
    "        output = np.dot(x_test, self.w) - self.b\n",
    "        predicted = np.sign(output)\n",
    "        y_pred = np.where(predicted <= -1, 0, 1)\n",
    "\n",
    "        return y_pred"
   ]
  },
  {
   "cell_type": "markdown",
   "metadata": {},
   "source": [
    "---\n",
    "# RESULTS\n",
    "---"
   ]
  },
  {
   "cell_type": "code",
   "execution_count": 10,
   "metadata": {
    "scrolled": true
   },
   "outputs": [
    {
     "data": {
      "text/html": [
       "<div>\n",
       "<style scoped>\n",
       "    .dataframe tbody tr th:only-of-type {\n",
       "        vertical-align: middle;\n",
       "    }\n",
       "\n",
       "    .dataframe tbody tr th {\n",
       "        vertical-align: top;\n",
       "    }\n",
       "\n",
       "    .dataframe thead th {\n",
       "        text-align: right;\n",
       "    }\n",
       "</style>\n",
       "<table border=\"1\" class=\"dataframe\">\n",
       "  <thead>\n",
       "    <tr style=\"text-align: right;\">\n",
       "      <th></th>\n",
       "      <th>SVM</th>\n",
       "    </tr>\n",
       "  </thead>\n",
       "  <tbody>\n",
       "    <tr>\n",
       "      <th>Accuracy</th>\n",
       "      <td>0.773387</td>\n",
       "    </tr>\n",
       "    <tr>\n",
       "      <th>F1</th>\n",
       "      <td>0.768948</td>\n",
       "    </tr>\n",
       "    <tr>\n",
       "      <th>Precision</th>\n",
       "      <td>0.790824</td>\n",
       "    </tr>\n",
       "    <tr>\n",
       "      <th>Recall</th>\n",
       "      <td>0.748250</td>\n",
       "    </tr>\n",
       "  </tbody>\n",
       "</table>\n",
       "</div>"
      ],
      "text/plain": [
       "                SVM\n",
       "Accuracy   0.773387\n",
       "F1         0.768948\n",
       "Precision  0.790824\n",
       "Recall     0.748250"
      ]
     },
     "execution_count": 10,
     "metadata": {},
     "output_type": "execute_result"
    },
    {
     "data": {
      "image/png": "[encoded data removed]",
      "text/plain": [
       "<Figure size 432x288 with 2 Axes>"
      ]
     },
     "metadata": {
      "needs_background": "light"
     },
     "output_type": "display_data"
    }
   ],
   "source": [
    "SVM = SVM()\n",
    "eval([[SVM, \"SVM\"]], x_test, y_test['RainTomorrow'])"
   ]
  },
  {
   "cell_type": "code",
   "execution_count": null,
   "metadata": {},
   "outputs": [],
   "source": []
  }
 ],
 "metadata": {
  "kernelspec": {
   "display_name": "Python 3",
   "language": "python",
   "name": "python3"
  },
  "language_info": {
   "codemirror_mode": {
    "name": "ipython",
    "version": 3
   },
   "file_extension": ".py",
   "mimetype": "text/x-python",
   "name": "python",
   "nbconvert_exporter": "python",
   "pygments_lexer": "ipython3",
   "version": "3.8.3"
  }
 },
 "nbformat": 4,
 "nbformat_minor": 4
}
